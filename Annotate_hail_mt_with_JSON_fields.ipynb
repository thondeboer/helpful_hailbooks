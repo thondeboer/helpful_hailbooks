{
 "cells": [
  {
   "cell_type": "markdown",
   "id": "architectural-hamilton",
   "metadata": {},
   "source": [
    "# Annotate variants in VCF file with JSON fields"
   ]
  },
  {
   "cell_type": "code",
   "execution_count": 1,
   "id": "local-thing",
   "metadata": {},
   "outputs": [
    {
     "name": "stderr",
     "output_type": "stream",
     "text": [
      "Running on Apache Spark version 2.4.1\n",
      "SparkUI available at http://bbench.tst-aws-ilmn-integration-w513952.tst-aws-ilmn-integration-w513952.svc.cluster.local:4042\n",
      "Welcome to\n",
      "     __  __     <>__\n",
      "    / /_/ /__  __/ /\n",
      "   / __  / _ `/ / /\n",
      "  /_/ /_/\\_,_/_/_/   version 0.2.63-295f119ef95b\n",
      "LOGGING: writing to /data/GRE/gre_hail/hail-20210308-1840-0.2.63-295f119ef95b.log\n"
     ]
    }
   ],
   "source": [
    "import os\n",
    "os.environ['PYSPARK_PYTHON'] = 'python3'\n",
    "os.environ['PYSPARK_DRIVER_PYTHON'] = 'python3'\n",
    "import hail as hl\n",
    "hl.init()"
   ]
  },
  {
   "cell_type": "markdown",
   "id": "aggregate-trail",
   "metadata": {},
   "source": [
    "The VCF file, written to '/tmp/dummy.vcf'"
   ]
  },
  {
   "cell_type": "code",
   "execution_count": 2,
   "id": "overall-finish",
   "metadata": {},
   "outputs": [],
   "source": [
    "vcf_string = '''##fileformat=VCFv4.2\n",
    "#CHROM\\tPOS\\tID\\tREF\\tALT\\tQUAL\\tFILTER\\tINFO\\tFORMAT\\t3344897\\t1594378\n",
    "chr11\\t65918810\\tchr11_65918810_C_G\\tC\\tG,A\\t40\\t.\\tAF=2e-06;AQ=40\\tGT:DP:AD:GQ:PL:RNC\\t0/0:20:20,0:50:0,69,689:..\\t0/0:18:18,0:48:0,54,539:..\n",
    "chr11\\t65918812\\tchr11_65918812_G_A\\tG\\tA\\t49\\t.\\tAF=5e-06;AQ=49\\tGT:DP:AD:GQ:PL:RNC\\t0/0:20:20,0:50:0,69,689:..\\t0/0:18:18,0:48:0,54,539:..'''\n",
    "with open('/tmp/dummy.vcf','wt') as out:\n",
    "    out.write(vcf_string)"
   ]
  },
  {
   "cell_type": "markdown",
   "id": "violent-interface",
   "metadata": {},
   "source": [
    "Import into HAIL"
   ]
  },
  {
   "cell_type": "code",
   "execution_count": 3,
   "id": "developmental-square",
   "metadata": {},
   "outputs": [
    {
     "name": "stdout",
     "output_type": "stream",
     "text": [
      "----------------------------------------\n",
      "Global fields:\n",
      "    None\n",
      "----------------------------------------\n",
      "Column fields:\n",
      "    's': str\n",
      "----------------------------------------\n",
      "Row fields:\n",
      "    'locus': locus<GRCh38>\n",
      "    'alleles': array<str>\n",
      "    'rsid': str\n",
      "    'qual': float64\n",
      "    'filters': set<str>\n",
      "    'info': struct {}\n",
      "----------------------------------------\n",
      "Entry fields:\n",
      "    None\n",
      "----------------------------------------\n",
      "Column key: ['s']\n",
      "Row key: ['locus', 'alleles']\n",
      "----------------------------------------\n"
     ]
    }
   ],
   "source": [
    "mt = hl.import_vcf(\n",
    "    '/tmp/dummy.vcf',\n",
    "    reference_genome=\"GRCh38\",\n",
    "    array_elements_required=False\n",
    ")\n",
    "mt.describe()"
   ]
  },
  {
   "cell_type": "markdown",
   "id": "primary-tribute",
   "metadata": {},
   "source": [
    "The Annotation JSON, written to '/tmp/annotations.json' as NewlineDelimitedJSON (NDJSON)"
   ]
  },
  {
   "cell_type": "code",
   "execution_count": 4,
   "id": "understanding-upset",
   "metadata": {},
   "outputs": [
    {
     "name": "stdout",
     "output_type": "stream",
     "text": [
      "----------------------------------------\n",
      "Global fields:\n",
      "    None\n",
      "----------------------------------------\n",
      "Row fields:\n",
      "    'f0': str \n",
      "----------------------------------------\n",
      "Key: []\n",
      "----------------------------------------\n"
     ]
    },
    {
     "name": "stderr",
     "output_type": "stream",
     "text": [
      "2021-03-08 18:40:41 Hail: INFO: Reading table without type imputation\n",
      "  Loading field 'f0' as type str (not specified)\n"
     ]
    }
   ],
   "source": [
    "ndjson = '''{\"chromosome\": \"chr11\", \"position\": 65918810, \"refAllele\": \"C\", \"altAlleles\": [\"G\", \"A\"],\"variants\": [{\"vid\": \"11-65918810-C-G\", \"hgvsg\": \"NC_000011.10:g.65918810C>G\", \"phylopScore\": -0.4}, { \"vid\": \"11-65918810-C-A\", \"hgvsg\": \"NC_000011.10:g.65918810C>A\", \"phylopScore\": -0.8}]} \n",
    "{\"chromosome\": \"chr11\", \"position\": 65918812, \"refAllele\": \"G\", \"altAlleles\": [\"A\"], \"variants\": [{\"vid\": \"11-65918812-G-A\", \"phylopScore\": 0.1}]}\n",
    "'''\n",
    "with open('/tmp/annotations.json', 'wt') as out:\n",
    "    out.write(ndjson)\n",
    "ht = hl.import_table('/tmp/annotations.json',no_header=True)\n",
    "ht.describe()"
   ]
  },
  {
   "cell_type": "markdown",
   "id": "exempt-competition",
   "metadata": {},
   "source": [
    "Describe the entries from the JSON file we want to use as annotation (In this case, it is a subset; the annotation \"phylopScore\" is deliberately left out.\n",
    "\n",
    "This is using the \"hail shortcut notation\"."
   ]
  },
  {
   "cell_type": "code",
   "execution_count": 5,
   "id": "parallel-disease",
   "metadata": {},
   "outputs": [],
   "source": [
    "nirvana_schema = '''\n",
    "struct{\n",
    "    chromosome: str,\n",
    "    position: int32,\n",
    "    refAllele: str,\n",
    "    altAlleles: array<str>,\n",
    "    cytogeneticBand:str,\n",
    "    variants:array<struct{\n",
    "        vid:str,\n",
    "        hgvsg:str\n",
    "    }>\n",
    "}\n",
    "'''"
   ]
  },
  {
   "cell_type": "markdown",
   "id": "monetary-silver",
   "metadata": {},
   "source": [
    "Parse the NDJSON field from the table with ```hl.parse_json``` function, which results in a ```Hail Expression``` which we can use to extract the locus information we need as KEY."
   ]
  },
  {
   "cell_type": "code",
   "execution_count": 6,
   "id": "boolean-pillow",
   "metadata": {},
   "outputs": [
    {
     "name": "stdout",
     "output_type": "stream",
     "text": [
      "--------------------------------------------------------\n",
      "Type:\n",
      "        struct {\n",
      "        chromosome: str, \n",
      "        position: int32, \n",
      "        refAllele: str, \n",
      "        altAlleles: array<str>, \n",
      "        cytogeneticBand: str, \n",
      "        variants: array<struct {\n",
      "            vid: str, \n",
      "            hgvsg: str\n",
      "        }>\n",
      "    }\n",
      "--------------------------------------------------------\n",
      "Source:\n",
      "    <hail.table.Table object at 0x7fe5110858d0>\n",
      "Index:\n",
      "    ['row']\n",
      "--------------------------------------------------------\n"
     ]
    }
   ],
   "source": [
    "json_expr = hl.parse_json(ht.f0,dtype=nirvana_schema)\n",
    "json_expr.describe()"
   ]
  },
  {
   "cell_type": "markdown",
   "id": "saving-devon",
   "metadata": {},
   "source": [
    "Create a new hail table using the locus, alleles as key and the nirvana structure as annotation field.\n",
    "\n",
    "Using the ```hl.locus``` function to construct the locus from the chromosome and position information, extracted from the expression.\n",
    "\n",
    "Using the ```hl.array``` function and the extend function to construct the alleles array, and using the complete json_expr as the nirvana annotation"
   ]
  },
  {
   "cell_type": "code",
   "execution_count": 7,
   "id": "assisted-binary",
   "metadata": {},
   "outputs": [
    {
     "name": "stdout",
     "output_type": "stream",
     "text": [
      "----------------------------------------\n",
      "Global fields:\n",
      "    None\n",
      "----------------------------------------\n",
      "Row fields:\n",
      "    'locus': locus<GRCh38> \n",
      "    'alleles': array<str> \n",
      "    'nirvana': struct {\n",
      "        chromosome: str, \n",
      "        position: int32, \n",
      "        refAllele: str, \n",
      "        altAlleles: array<str>, \n",
      "        cytogeneticBand: str, \n",
      "        variants: array<struct {\n",
      "            vid: str, \n",
      "            hgvsg: str\n",
      "        }>\n",
      "    } \n",
      "----------------------------------------\n",
      "Key: ['locus', 'alleles']\n",
      "----------------------------------------\n"
     ]
    }
   ],
   "source": [
    "ht = ht.key_by(\n",
    "    locus = hl.locus(json_expr.chromosome,json_expr.position,reference_genome='GRCh38'),\n",
    "    alleles = hl.array([json_expr.refAllele]).extend(json_expr.altAlleles),\n",
    "    nirvana = json_expr\n",
    ").drop('f0').key_by('locus','alleles')\n",
    "ht.describe()"
   ]
  },
  {
   "cell_type": "markdown",
   "id": "fluid-consistency",
   "metadata": {},
   "source": [
    "Now annotate the Hail MatrixTable with the new row annotation table.\n",
    "\n",
    "We are using the ```**``` notation to ensure the annotation will use the name \"nirvana\". If we would have used the following notation:\n",
    "\n",
    "```python\n",
    "mt = mt.annotate_rows(nirvana = new_ht[mt.row_key])\n",
    "```\n",
    "\n",
    "The nirvana struct would be encapsulated inside another struct, called nirvana, like this:\n",
    "\n",
    "    ----------------------------------------\n",
    "    Global fields:\n",
    "        None\n",
    "    ----------------------------------------\n",
    "    Column fields:\n",
    "        's': str\n",
    "    ----------------------------------------\n",
    "    Row fields:\n",
    "        'locus': locus<GRCh38>\n",
    "        'alleles': array<str>\n",
    "        'rsid': str\n",
    "        'qual': float64\n",
    "        'filters': set<str>\n",
    "        'info': struct {}\n",
    "        'nirvana': struct {\n",
    "            nirvana: struct {\n",
    "                chromosome: str, \n",
    "                position: int32, \n",
    "                refAllele: str, \n",
    "                altAlleles: array<str>, \n",
    "                cytogeneticBand: str, \n",
    "                variants: array<struct {\n",
    "                    vid: str, \n",
    "                    hgvsg: str\n",
    "                }>\n",
    "            }\n",
    "        }\n",
    "    ----------------------------------------\n",
    "    Entry fields:\n",
    "        None\n",
    "    ----------------------------------------\n",
    "    Column key: ['s']\n",
    "    Row key: ['locus', 'alleles']\n",
    "    ----------------------------------------"
   ]
  },
  {
   "cell_type": "code",
   "execution_count": 8,
   "id": "incorrect-engagement",
   "metadata": {},
   "outputs": [
    {
     "name": "stdout",
     "output_type": "stream",
     "text": [
      "----------------------------------------\n",
      "Global fields:\n",
      "    None\n",
      "----------------------------------------\n",
      "Column fields:\n",
      "    's': str\n",
      "----------------------------------------\n",
      "Row fields:\n",
      "    'locus': locus<GRCh38>\n",
      "    'alleles': array<str>\n",
      "    'rsid': str\n",
      "    'qual': float64\n",
      "    'filters': set<str>\n",
      "    'info': struct {}\n",
      "    'nirvana': struct {\n",
      "        chromosome: str, \n",
      "        position: int32, \n",
      "        refAllele: str, \n",
      "        altAlleles: array<str>, \n",
      "        cytogeneticBand: str, \n",
      "        variants: array<struct {\n",
      "            vid: str, \n",
      "            hgvsg: str\n",
      "        }>\n",
      "    }\n",
      "----------------------------------------\n",
      "Entry fields:\n",
      "    None\n",
      "----------------------------------------\n",
      "Column key: ['s']\n",
      "Row key: ['locus', 'alleles']\n",
      "----------------------------------------\n"
     ]
    }
   ],
   "source": [
    "mt = mt.annotate_rows(**ht[mt.row_key])\n",
    "mt.describe()"
   ]
  },
  {
   "cell_type": "code",
   "execution_count": 9,
   "id": "returning-british",
   "metadata": {},
   "outputs": [
    {
     "name": "stderr",
     "output_type": "stream",
     "text": [
      "2021-03-08 18:40:42 Hail: INFO: Coerced sorted dataset\n",
      "2021-03-08 18:40:42 Hail: WARN: struct{vid: str, hgvsg: str} has no field phylopScore at <root>.variants[element] for value JDouble(-0.4)\n",
      "2021-03-08 18:40:42 Hail: WARN: struct{vid: str, hgvsg: str} has no field phylopScore at <root>.variants[element] for value JDouble(0.1)\n",
      "2021-03-08 18:40:42 Hail: INFO: Coerced sorted dataset\n",
      "2021-03-08 18:40:43 Hail: WARN: struct{vid: str, hgvsg: str} has no field phylopScore at <root>.variants[element] for value JDouble(-0.4)\n",
      "2021-03-08 18:40:43 Hail: WARN: struct{vid: str, hgvsg: str} has no field phylopScore at <root>.variants[element] for value JDouble(0.1)\n",
      "2021-03-08 18:40:43 Hail: WARN: struct{vid: str, hgvsg: str} has no field phylopScore at <root>.variants[element] for value JDouble(-0.4)\n",
      "2021-03-08 18:40:43 Hail: WARN: struct{vid: str, hgvsg: str} has no field phylopScore at <root>.variants[element] for value JDouble(0.1)\n"
     ]
    },
    {
     "data": {
      "text/html": [
       "<table><thead><tr><td style=\"white-space: nowrap; max-width: 500px; overflow: hidden; text-overflow: ellipsis; \" colspan=\"1\"><div style=\"text-align: left;\"></div></td><td style=\"white-space: nowrap; max-width: 500px; overflow: hidden; text-overflow: ellipsis; \" colspan=\"1\"><div style=\"text-align: left;\"></div></td><td style=\"white-space: nowrap; max-width: 500px; overflow: hidden; text-overflow: ellipsis; \" colspan=\"1\"><div style=\"text-align: left;\"></div></td><td style=\"white-space: nowrap; max-width: 500px; overflow: hidden; text-overflow: ellipsis; \" colspan=\"1\"><div style=\"text-align: left;\"></div></td><td style=\"white-space: nowrap; max-width: 500px; overflow: hidden; text-overflow: ellipsis; \" colspan=\"1\"><div style=\"text-align: left;\"></div></td><td style=\"white-space: nowrap; max-width: 500px; overflow: hidden; text-overflow: ellipsis; \" colspan=\"0\"><div style=\"text-align: left;\"></div></td><td style=\"white-space: nowrap; max-width: 500px; overflow: hidden; text-overflow: ellipsis; \" colspan=\"6\"><div style=\"text-align: left;\"></div></td></tr><tr><td style=\"white-space: nowrap; max-width: 500px; overflow: hidden; text-overflow: ellipsis; \" colspan=\"1\"><div style=\"text-align: left;\"></div></td><td style=\"white-space: nowrap; max-width: 500px; overflow: hidden; text-overflow: ellipsis; \" colspan=\"1\"><div style=\"text-align: left;\"></div></td><td style=\"white-space: nowrap; max-width: 500px; overflow: hidden; text-overflow: ellipsis; \" colspan=\"1\"><div style=\"text-align: left;\"></div></td><td style=\"white-space: nowrap; max-width: 500px; overflow: hidden; text-overflow: ellipsis; \" colspan=\"1\"><div style=\"text-align: left;\"></div></td><td style=\"white-space: nowrap; max-width: 500px; overflow: hidden; text-overflow: ellipsis; \" colspan=\"1\"><div style=\"text-align: left;\"></div></td><td style=\"white-space: nowrap; max-width: 500px; overflow: hidden; text-overflow: ellipsis; \" colspan=\"0\"><div style=\"text-align: left;border-bottom: solid 2px #000; padding-bottom: 5px\">info</div></td><td style=\"white-space: nowrap; max-width: 500px; overflow: hidden; text-overflow: ellipsis; \" colspan=\"6\"><div style=\"text-align: left;border-bottom: solid 2px #000; padding-bottom: 5px\">nirvana</div></td></tr><tr><td style=\"white-space: nowrap; max-width: 500px; overflow: hidden; text-overflow: ellipsis; \" colspan=\"1\"><div style=\"text-align: left;border-bottom: solid 2px #000; padding-bottom: 5px\">locus</div></td><td style=\"white-space: nowrap; max-width: 500px; overflow: hidden; text-overflow: ellipsis; \" colspan=\"1\"><div style=\"text-align: left;border-bottom: solid 2px #000; padding-bottom: 5px\">alleles</div></td><td style=\"white-space: nowrap; max-width: 500px; overflow: hidden; text-overflow: ellipsis; \" colspan=\"1\"><div style=\"text-align: left;border-bottom: solid 2px #000; padding-bottom: 5px\">rsid</div></td><td style=\"white-space: nowrap; max-width: 500px; overflow: hidden; text-overflow: ellipsis; \" colspan=\"1\"><div style=\"text-align: left;border-bottom: solid 2px #000; padding-bottom: 5px\">qual</div></td><td style=\"white-space: nowrap; max-width: 500px; overflow: hidden; text-overflow: ellipsis; \" colspan=\"1\"><div style=\"text-align: left;border-bottom: solid 2px #000; padding-bottom: 5px\">filters</div></td><td style=\"white-space: nowrap; max-width: 500px; overflow: hidden; text-overflow: ellipsis; \" colspan=\"1\"><div style=\"text-align: left;border-bottom: solid 2px #000; padding-bottom: 5px\">chromosome</div></td><td style=\"white-space: nowrap; max-width: 500px; overflow: hidden; text-overflow: ellipsis; \" colspan=\"1\"><div style=\"text-align: left;border-bottom: solid 2px #000; padding-bottom: 5px\">position</div></td><td style=\"white-space: nowrap; max-width: 500px; overflow: hidden; text-overflow: ellipsis; \" colspan=\"1\"><div style=\"text-align: left;border-bottom: solid 2px #000; padding-bottom: 5px\">refAllele</div></td><td style=\"white-space: nowrap; max-width: 500px; overflow: hidden; text-overflow: ellipsis; \" colspan=\"1\"><div style=\"text-align: left;border-bottom: solid 2px #000; padding-bottom: 5px\">altAlleles</div></td><td style=\"white-space: nowrap; max-width: 500px; overflow: hidden; text-overflow: ellipsis; \" colspan=\"1\"><div style=\"text-align: left;border-bottom: solid 2px #000; padding-bottom: 5px\">cytogeneticBand</div></td><td style=\"white-space: nowrap; max-width: 500px; overflow: hidden; text-overflow: ellipsis; \" colspan=\"1\"><div style=\"text-align: left;border-bottom: solid 2px #000; padding-bottom: 5px\">variants</div></td></tr><tr><td style=\"white-space: nowrap; max-width: 500px; overflow: hidden; text-overflow: ellipsis; text-align: left;\">locus&lt;GRCh38&gt;</td><td style=\"white-space: nowrap; max-width: 500px; overflow: hidden; text-overflow: ellipsis; text-align: left;\">array&lt;str&gt;</td><td style=\"white-space: nowrap; max-width: 500px; overflow: hidden; text-overflow: ellipsis; text-align: left;\">str</td><td style=\"white-space: nowrap; max-width: 500px; overflow: hidden; text-overflow: ellipsis; text-align: left;\">float64</td><td style=\"white-space: nowrap; max-width: 500px; overflow: hidden; text-overflow: ellipsis; text-align: left;\">set&lt;str&gt;</td><td style=\"white-space: nowrap; max-width: 500px; overflow: hidden; text-overflow: ellipsis; text-align: left;\">str</td><td style=\"white-space: nowrap; max-width: 500px; overflow: hidden; text-overflow: ellipsis; text-align: left;\">int32</td><td style=\"white-space: nowrap; max-width: 500px; overflow: hidden; text-overflow: ellipsis; text-align: left;\">str</td><td style=\"white-space: nowrap; max-width: 500px; overflow: hidden; text-overflow: ellipsis; text-align: left;\">array&lt;str&gt;</td><td style=\"white-space: nowrap; max-width: 500px; overflow: hidden; text-overflow: ellipsis; text-align: left;\">str</td><td style=\"white-space: nowrap; max-width: 500px; overflow: hidden; text-overflow: ellipsis; text-align: left;\">array&lt;struct{vid: str, hgvsg: str}&gt;</td></tr>\n",
       "</thead><tbody><tr><td style=\"white-space: nowrap; max-width: 500px; overflow: hidden; text-overflow: ellipsis; \">chr11:65918810</td><td style=\"white-space: nowrap; max-width: 500px; overflow: hidden; text-overflow: ellipsis; \">[&quot;C&quot;,&quot;G&quot;,&quot;A&quot;]</td><td style=\"white-space: nowrap; max-width: 500px; overflow: hidden; text-overflow: ellipsis; \">&quot;chr11_65918810_C_G&quot;</td><td style=\"white-space: nowrap; max-width: 500px; overflow: hidden; text-overflow: ellipsis; \">4.00e+01</td><td style=\"white-space: nowrap; max-width: 500px; overflow: hidden; text-overflow: ellipsis; \">NA</td><td style=\"white-space: nowrap; max-width: 500px; overflow: hidden; text-overflow: ellipsis; \">&quot;chr11&quot;</td><td style=\"white-space: nowrap; max-width: 500px; overflow: hidden; text-overflow: ellipsis; \">65918810</td><td style=\"white-space: nowrap; max-width: 500px; overflow: hidden; text-overflow: ellipsis; \">&quot;C&quot;</td><td style=\"white-space: nowrap; max-width: 500px; overflow: hidden; text-overflow: ellipsis; \">[&quot;G&quot;,&quot;A&quot;]</td><td style=\"white-space: nowrap; max-width: 500px; overflow: hidden; text-overflow: ellipsis; \">NA</td><td style=\"white-space: nowrap; max-width: 500px; overflow: hidden; text-overflow: ellipsis; \">[(&quot;11-65918810-C-G&quot;,&quot;NC_000011.10:g.65918810C&gt;G&quot;),(&quot;11-65918810-C-A&quot;,&quot;NC_000011.10:g.65918810C&gt;A&quot;)]</td></tr>\n",
       "<tr><td style=\"white-space: nowrap; max-width: 500px; overflow: hidden; text-overflow: ellipsis; \">chr11:65918812</td><td style=\"white-space: nowrap; max-width: 500px; overflow: hidden; text-overflow: ellipsis; \">[&quot;G&quot;,&quot;A&quot;]</td><td style=\"white-space: nowrap; max-width: 500px; overflow: hidden; text-overflow: ellipsis; \">&quot;chr11_65918812_G_A&quot;</td><td style=\"white-space: nowrap; max-width: 500px; overflow: hidden; text-overflow: ellipsis; \">4.90e+01</td><td style=\"white-space: nowrap; max-width: 500px; overflow: hidden; text-overflow: ellipsis; \">NA</td><td style=\"white-space: nowrap; max-width: 500px; overflow: hidden; text-overflow: ellipsis; \">&quot;chr11&quot;</td><td style=\"white-space: nowrap; max-width: 500px; overflow: hidden; text-overflow: ellipsis; \">65918812</td><td style=\"white-space: nowrap; max-width: 500px; overflow: hidden; text-overflow: ellipsis; \">&quot;G&quot;</td><td style=\"white-space: nowrap; max-width: 500px; overflow: hidden; text-overflow: ellipsis; \">[&quot;A&quot;]</td><td style=\"white-space: nowrap; max-width: 500px; overflow: hidden; text-overflow: ellipsis; \">NA</td><td style=\"white-space: nowrap; max-width: 500px; overflow: hidden; text-overflow: ellipsis; \">[(&quot;11-65918812-G-A&quot;,NA)]</td></tr>\n",
       "</tbody></table>"
      ],
      "text/plain": [
       "+----------------+---------------+----------------------+----------+----------+\n",
       "| locus          | alleles       | rsid                 |     qual | filters  |\n",
       "+----------------+---------------+----------------------+----------+----------+\n",
       "| locus<GRCh38>  | array<str>    | str                  |  float64 | set<str> |\n",
       "+----------------+---------------+----------------------+----------+----------+\n",
       "| chr11:65918810 | [\"C\",\"G\",\"A\"] | \"chr11_65918810_C_G\" | 4.00e+01 | NA       |\n",
       "| chr11:65918812 | [\"G\",\"A\"]     | \"chr11_65918812_G_A\" | 4.90e+01 | NA       |\n",
       "+----------------+---------------+----------------------+----------+----------+\n",
       "\n",
       "+--------------------+------------------+-------------------+\n",
       "| nirvana.chromosome | nirvana.position | nirvana.refAllele |\n",
       "+--------------------+------------------+-------------------+\n",
       "| str                |            int32 | str               |\n",
       "+--------------------+------------------+-------------------+\n",
       "| \"chr11\"            |         65918810 | \"C\"               |\n",
       "| \"chr11\"            |         65918812 | \"G\"               |\n",
       "+--------------------+------------------+-------------------+\n",
       "\n",
       "+--------------------+-------------------------+\n",
       "| nirvana.altAlleles | nirvana.cytogeneticBand |\n",
       "+--------------------+-------------------------+\n",
       "| array<str>         | str                     |\n",
       "+--------------------+-------------------------+\n",
       "| [\"G\",\"A\"]          | NA                      |\n",
       "| [\"A\"]              | NA                      |\n",
       "+--------------------+-------------------------+\n",
       "\n",
       "+------------------------------------------------------------------------------+\n",
       "| nirvana.variants                                                             |\n",
       "+------------------------------------------------------------------------------+\n",
       "| array<struct{vid: str, hgvsg: str}>                                          |\n",
       "+------------------------------------------------------------------------------+\n",
       "| [(\"11-65918810-C-G\",\"NC_000011.10:g.65918810C>G\"),(\"11-65918810-C-A\",\"NC_... |\n",
       "| [(\"11-65918812-G-A\",NA)]                                                     |\n",
       "+------------------------------------------------------------------------------+"
      ]
     },
     "metadata": {},
     "output_type": "display_data"
    }
   ],
   "source": [
    "mt.rows().show()"
   ]
  },
  {
   "cell_type": "code",
   "execution_count": null,
   "id": "shared-female",
   "metadata": {},
   "outputs": [],
   "source": []
  }
 ],
 "metadata": {
  "kernelspec": {
   "display_name": "Python 3",
   "language": "python",
   "name": "python3"
  },
  "language_info": {
   "codemirror_mode": {
    "name": "ipython",
    "version": 3
   },
   "file_extension": ".py",
   "mimetype": "text/x-python",
   "name": "python",
   "nbconvert_exporter": "python",
   "pygments_lexer": "ipython3",
   "version": "3.7.10"
  }
 },
 "nbformat": 4,
 "nbformat_minor": 5
}
